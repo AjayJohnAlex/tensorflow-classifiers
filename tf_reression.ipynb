{
  "nbformat": 4,
  "nbformat_minor": 0,
  "metadata": {
    "colab": {
      "name": "tf_reression.ipynb",
      "provenance": [],
      "collapsed_sections": []
    },
    "kernelspec": {
      "name": "python3",
      "display_name": "Python 3"
    }
  },
  "cells": [
    {
      "cell_type": "code",
      "metadata": {
        "id": "HlrphLdLYjAJ",
        "colab_type": "code",
        "colab": {}
      },
      "source": [
        "import pandas as pd\n",
        "import numpy as np\n",
        "import matplotlib.pyplot as plt\n",
        "import tensorflow as tf \n",
        "%matplotlib inline"
      ],
      "execution_count": 0,
      "outputs": []
    },
    {
      "cell_type": "code",
      "metadata": {
        "id": "kC8ETDSrZenC",
        "colab_type": "code",
        "outputId": "12b480e5-768b-4307-db3a-8fd671364585",
        "colab": {
          "base_uri": "https://localhost:8080/",
          "height": 204
        }
      },
      "source": [
        "df = pd.read_csv('/content/cal_housing_clean.csv')\n",
        "df.head()"
      ],
      "execution_count": 0,
      "outputs": [
        {
          "output_type": "execute_result",
          "data": {
            "text/html": [
              "<div>\n",
              "<style scoped>\n",
              "    .dataframe tbody tr th:only-of-type {\n",
              "        vertical-align: middle;\n",
              "    }\n",
              "\n",
              "    .dataframe tbody tr th {\n",
              "        vertical-align: top;\n",
              "    }\n",
              "\n",
              "    .dataframe thead th {\n",
              "        text-align: right;\n",
              "    }\n",
              "</style>\n",
              "<table border=\"1\" class=\"dataframe\">\n",
              "  <thead>\n",
              "    <tr style=\"text-align: right;\">\n",
              "      <th></th>\n",
              "      <th>housingMedianAge</th>\n",
              "      <th>totalRooms</th>\n",
              "      <th>totalBedrooms</th>\n",
              "      <th>population</th>\n",
              "      <th>households</th>\n",
              "      <th>medianIncome</th>\n",
              "      <th>medianHouseValue</th>\n",
              "    </tr>\n",
              "  </thead>\n",
              "  <tbody>\n",
              "    <tr>\n",
              "      <th>0</th>\n",
              "      <td>41.0</td>\n",
              "      <td>880.0</td>\n",
              "      <td>129.0</td>\n",
              "      <td>322.0</td>\n",
              "      <td>126.0</td>\n",
              "      <td>8.3252</td>\n",
              "      <td>452600.0</td>\n",
              "    </tr>\n",
              "    <tr>\n",
              "      <th>1</th>\n",
              "      <td>21.0</td>\n",
              "      <td>7099.0</td>\n",
              "      <td>1106.0</td>\n",
              "      <td>2401.0</td>\n",
              "      <td>1138.0</td>\n",
              "      <td>8.3014</td>\n",
              "      <td>358500.0</td>\n",
              "    </tr>\n",
              "    <tr>\n",
              "      <th>2</th>\n",
              "      <td>52.0</td>\n",
              "      <td>1467.0</td>\n",
              "      <td>190.0</td>\n",
              "      <td>496.0</td>\n",
              "      <td>177.0</td>\n",
              "      <td>7.2574</td>\n",
              "      <td>352100.0</td>\n",
              "    </tr>\n",
              "    <tr>\n",
              "      <th>3</th>\n",
              "      <td>52.0</td>\n",
              "      <td>1274.0</td>\n",
              "      <td>235.0</td>\n",
              "      <td>558.0</td>\n",
              "      <td>219.0</td>\n",
              "      <td>5.6431</td>\n",
              "      <td>341300.0</td>\n",
              "    </tr>\n",
              "    <tr>\n",
              "      <th>4</th>\n",
              "      <td>52.0</td>\n",
              "      <td>1627.0</td>\n",
              "      <td>280.0</td>\n",
              "      <td>565.0</td>\n",
              "      <td>259.0</td>\n",
              "      <td>3.8462</td>\n",
              "      <td>342200.0</td>\n",
              "    </tr>\n",
              "  </tbody>\n",
              "</table>\n",
              "</div>"
            ],
            "text/plain": [
              "   housingMedianAge  totalRooms  ...  medianIncome  medianHouseValue\n",
              "0              41.0       880.0  ...        8.3252          452600.0\n",
              "1              21.0      7099.0  ...        8.3014          358500.0\n",
              "2              52.0      1467.0  ...        7.2574          352100.0\n",
              "3              52.0      1274.0  ...        5.6431          341300.0\n",
              "4              52.0      1627.0  ...        3.8462          342200.0\n",
              "\n",
              "[5 rows x 7 columns]"
            ]
          },
          "metadata": {
            "tags": []
          },
          "execution_count": 2
        }
      ]
    },
    {
      "cell_type": "code",
      "metadata": {
        "id": "Uh2TWZqImCCG",
        "colab_type": "code",
        "outputId": "3916e512-5acc-408b-884d-b5e78ab56c9a",
        "colab": {
          "base_uri": "https://localhost:8080/",
          "height": 286
        }
      },
      "source": [
        "df.describe().transpose()"
      ],
      "execution_count": 0,
      "outputs": [
        {
          "output_type": "execute_result",
          "data": {
            "text/html": [
              "<div>\n",
              "<style scoped>\n",
              "    .dataframe tbody tr th:only-of-type {\n",
              "        vertical-align: middle;\n",
              "    }\n",
              "\n",
              "    .dataframe tbody tr th {\n",
              "        vertical-align: top;\n",
              "    }\n",
              "\n",
              "    .dataframe thead th {\n",
              "        text-align: right;\n",
              "    }\n",
              "</style>\n",
              "<table border=\"1\" class=\"dataframe\">\n",
              "  <thead>\n",
              "    <tr style=\"text-align: right;\">\n",
              "      <th></th>\n",
              "      <th>count</th>\n",
              "      <th>mean</th>\n",
              "      <th>std</th>\n",
              "      <th>min</th>\n",
              "      <th>25%</th>\n",
              "      <th>50%</th>\n",
              "      <th>75%</th>\n",
              "      <th>max</th>\n",
              "    </tr>\n",
              "  </thead>\n",
              "  <tbody>\n",
              "    <tr>\n",
              "      <th>housingMedianAge</th>\n",
              "      <td>20640.0</td>\n",
              "      <td>28.639486</td>\n",
              "      <td>12.585558</td>\n",
              "      <td>1.0000</td>\n",
              "      <td>18.0000</td>\n",
              "      <td>29.0000</td>\n",
              "      <td>37.00000</td>\n",
              "      <td>52.0000</td>\n",
              "    </tr>\n",
              "    <tr>\n",
              "      <th>totalRooms</th>\n",
              "      <td>20640.0</td>\n",
              "      <td>2635.763081</td>\n",
              "      <td>2181.615252</td>\n",
              "      <td>2.0000</td>\n",
              "      <td>1447.7500</td>\n",
              "      <td>2127.0000</td>\n",
              "      <td>3148.00000</td>\n",
              "      <td>39320.0000</td>\n",
              "    </tr>\n",
              "    <tr>\n",
              "      <th>totalBedrooms</th>\n",
              "      <td>20640.0</td>\n",
              "      <td>537.898014</td>\n",
              "      <td>421.247906</td>\n",
              "      <td>1.0000</td>\n",
              "      <td>295.0000</td>\n",
              "      <td>435.0000</td>\n",
              "      <td>647.00000</td>\n",
              "      <td>6445.0000</td>\n",
              "    </tr>\n",
              "    <tr>\n",
              "      <th>population</th>\n",
              "      <td>20640.0</td>\n",
              "      <td>1425.476744</td>\n",
              "      <td>1132.462122</td>\n",
              "      <td>3.0000</td>\n",
              "      <td>787.0000</td>\n",
              "      <td>1166.0000</td>\n",
              "      <td>1725.00000</td>\n",
              "      <td>35682.0000</td>\n",
              "    </tr>\n",
              "    <tr>\n",
              "      <th>households</th>\n",
              "      <td>20640.0</td>\n",
              "      <td>499.539680</td>\n",
              "      <td>382.329753</td>\n",
              "      <td>1.0000</td>\n",
              "      <td>280.0000</td>\n",
              "      <td>409.0000</td>\n",
              "      <td>605.00000</td>\n",
              "      <td>6082.0000</td>\n",
              "    </tr>\n",
              "    <tr>\n",
              "      <th>medianIncome</th>\n",
              "      <td>20640.0</td>\n",
              "      <td>3.870671</td>\n",
              "      <td>1.899822</td>\n",
              "      <td>0.4999</td>\n",
              "      <td>2.5634</td>\n",
              "      <td>3.5348</td>\n",
              "      <td>4.74325</td>\n",
              "      <td>15.0001</td>\n",
              "    </tr>\n",
              "    <tr>\n",
              "      <th>medianHouseValue</th>\n",
              "      <td>20640.0</td>\n",
              "      <td>206855.816909</td>\n",
              "      <td>115395.615874</td>\n",
              "      <td>14999.0000</td>\n",
              "      <td>119600.0000</td>\n",
              "      <td>179700.0000</td>\n",
              "      <td>264725.00000</td>\n",
              "      <td>500001.0000</td>\n",
              "    </tr>\n",
              "  </tbody>\n",
              "</table>\n",
              "</div>"
            ],
            "text/plain": [
              "                    count           mean  ...           75%          max\n",
              "housingMedianAge  20640.0      28.639486  ...      37.00000      52.0000\n",
              "totalRooms        20640.0    2635.763081  ...    3148.00000   39320.0000\n",
              "totalBedrooms     20640.0     537.898014  ...     647.00000    6445.0000\n",
              "population        20640.0    1425.476744  ...    1725.00000   35682.0000\n",
              "households        20640.0     499.539680  ...     605.00000    6082.0000\n",
              "medianIncome      20640.0       3.870671  ...       4.74325      15.0001\n",
              "medianHouseValue  20640.0  206855.816909  ...  264725.00000  500001.0000\n",
              "\n",
              "[7 rows x 8 columns]"
            ]
          },
          "metadata": {
            "tags": []
          },
          "execution_count": 69
        }
      ]
    },
    {
      "cell_type": "code",
      "metadata": {
        "id": "nkJaF6o3ZnFz",
        "colab_type": "code",
        "outputId": "469de84f-6ce4-4b25-fbe8-555e5c83b1a0",
        "colab": {
          "base_uri": "https://localhost:8080/",
          "height": 221
        }
      },
      "source": [
        "df.info()"
      ],
      "execution_count": 0,
      "outputs": [
        {
          "output_type": "stream",
          "text": [
            "<class 'pandas.core.frame.DataFrame'>\n",
            "RangeIndex: 20640 entries, 0 to 20639\n",
            "Data columns (total 7 columns):\n",
            "housingMedianAge    20640 non-null float64\n",
            "totalRooms          20640 non-null float64\n",
            "totalBedrooms       20640 non-null float64\n",
            "population          20640 non-null float64\n",
            "households          20640 non-null float64\n",
            "medianIncome        20640 non-null float64\n",
            "medianHouseValue    20640 non-null float64\n",
            "dtypes: float64(7)\n",
            "memory usage: 1.1 MB\n"
          ],
          "name": "stdout"
        }
      ]
    },
    {
      "cell_type": "code",
      "metadata": {
        "id": "GxdmaqyAaLoL",
        "colab_type": "code",
        "outputId": "260abf84-2686-49e8-d9e5-a21207d5ef72",
        "colab": {
          "base_uri": "https://localhost:8080/",
          "height": 153
        }
      },
      "source": [
        "df.isnull().sum()"
      ],
      "execution_count": 0,
      "outputs": [
        {
          "output_type": "execute_result",
          "data": {
            "text/plain": [
              "housingMedianAge    0\n",
              "totalRooms          0\n",
              "totalBedrooms       0\n",
              "population          0\n",
              "households          0\n",
              "medianIncome        0\n",
              "medianHouseValue    0\n",
              "dtype: int64"
            ]
          },
          "metadata": {
            "tags": []
          },
          "execution_count": 5
        }
      ]
    },
    {
      "cell_type": "code",
      "metadata": {
        "id": "DcpTySH0ZpO_",
        "colab_type": "code",
        "colab": {}
      },
      "source": [
        "from sklearn.model_selection import train_test_split"
      ],
      "execution_count": 0,
      "outputs": []
    },
    {
      "cell_type": "code",
      "metadata": {
        "id": "4CAnNGZXaKJ3",
        "colab_type": "code",
        "colab": {}
      },
      "source": [
        "X = df.drop('medianHouseValue',axis=1)\n",
        "y = df['medianHouseValue']"
      ],
      "execution_count": 0,
      "outputs": []
    },
    {
      "cell_type": "code",
      "metadata": {
        "id": "-HgugxC-Zz1n",
        "colab_type": "code",
        "colab": {}
      },
      "source": [
        "X_train,X_test,y_train,y_test = train_test_split(X,y,test_size=0.33,random_state=42)"
      ],
      "execution_count": 0,
      "outputs": []
    },
    {
      "cell_type": "code",
      "metadata": {
        "id": "_nJhRjgoaZVF",
        "colab_type": "code",
        "colab": {}
      },
      "source": [
        "from sklearn.preprocessing import MinMaxScaler"
      ],
      "execution_count": 0,
      "outputs": []
    },
    {
      "cell_type": "code",
      "metadata": {
        "id": "tuB730bBaj7W",
        "colab_type": "code",
        "colab": {}
      },
      "source": [
        "minmax = MinMaxScaler()"
      ],
      "execution_count": 0,
      "outputs": []
    },
    {
      "cell_type": "code",
      "metadata": {
        "id": "sNwjMLQzam3o",
        "colab_type": "code",
        "outputId": "dc0d380d-4cc9-4b66-e692-7027144a73f6",
        "colab": {
          "base_uri": "https://localhost:8080/",
          "height": 34
        }
      },
      "source": [
        "minmax.fit(X_train)"
      ],
      "execution_count": 0,
      "outputs": [
        {
          "output_type": "execute_result",
          "data": {
            "text/plain": [
              "MinMaxScaler(copy=True, feature_range=(0, 1))"
            ]
          },
          "metadata": {
            "tags": []
          },
          "execution_count": 25
        }
      ]
    },
    {
      "cell_type": "code",
      "metadata": {
        "id": "NvWsDqSegynJ",
        "colab_type": "code",
        "colab": {}
      },
      "source": [
        "X_train  = pd.DataFrame(data = minmax.transform(X_train),\n",
        "                        columns = X_train.columns,\n",
        "                        index = X_train.index)"
      ],
      "execution_count": 0,
      "outputs": []
    },
    {
      "cell_type": "code",
      "metadata": {
        "id": "VU6ie0MYhR2O",
        "colab_type": "code",
        "colab": {}
      },
      "source": [
        "X_test  = pd.DataFrame(data = minmax.transform(X_test),\n",
        "                        columns = X_test.columns,\n",
        "                        index = X_test.index)"
      ],
      "execution_count": 0,
      "outputs": []
    },
    {
      "cell_type": "code",
      "metadata": {
        "id": "82qG_8dnaxUy",
        "colab_type": "code",
        "colab": {}
      },
      "source": [
        "housingMedian = tf.feature_column.numeric_column('housingMedianAge')\n",
        "housingRooms = tf.feature_column.numeric_column('totalRooms')\n",
        "housingTotalBedrooms = tf.feature_column.numeric_column('totalBedrooms')\n",
        "housingPopulation = tf.feature_column.numeric_column('population')\n",
        "housingHouseholds = tf.feature_column.numeric_column('households')\n",
        "housingMedianIncome = tf.feature_column.numeric_column('medianIncome')\n"
      ],
      "execution_count": 0,
      "outputs": []
    },
    {
      "cell_type": "code",
      "metadata": {
        "id": "WckyiiQ1b2st",
        "colab_type": "code",
        "colab": {}
      },
      "source": [
        "feature_cols = [housingMedian,housingRooms,housingTotalBedrooms,housingPopulation,housingHouseholds,\n",
        "                housingMedianIncome]"
      ],
      "execution_count": 0,
      "outputs": []
    },
    {
      "cell_type": "code",
      "metadata": {
        "id": "ZIRtPo16cEt6",
        "colab_type": "code",
        "colab": {}
      },
      "source": [
        "input_func = tf.estimator.inputs.pandas_input_fn(x=X_train,y=y_train,batch_size=20,num_epochs=2000,shuffle=True)"
      ],
      "execution_count": 0,
      "outputs": []
    },
    {
      "cell_type": "code",
      "metadata": {
        "id": "QuA2tlVJcc_s",
        "colab_type": "code",
        "outputId": "85496eda-8282-43dd-e5a7-6b92f0920f8e",
        "colab": {
          "base_uri": "https://localhost:8080/",
          "height": 190
        }
      },
      "source": [
        "model =  tf.estimator.LinearRegressor(feature_columns=feature_cols)"
      ],
      "execution_count": 0,
      "outputs": [
        {
          "output_type": "stream",
          "text": [
            "INFO:tensorflow:Using default config.\n",
            "WARNING:tensorflow:Using temporary folder as model directory: /tmp/tmp_zf69j3q\n",
            "INFO:tensorflow:Using config: {'_model_dir': '/tmp/tmp_zf69j3q', '_tf_random_seed': None, '_save_summary_steps': 100, '_save_checkpoints_steps': None, '_save_checkpoints_secs': 600, '_session_config': allow_soft_placement: true\n",
            "graph_options {\n",
            "  rewrite_options {\n",
            "    meta_optimizer_iterations: ONE\n",
            "  }\n",
            "}\n",
            ", '_keep_checkpoint_max': 5, '_keep_checkpoint_every_n_hours': 10000, '_log_step_count_steps': 100, '_train_distribute': None, '_device_fn': None, '_protocol': None, '_eval_distribute': None, '_experimental_distribute': None, '_experimental_max_worker_delay_secs': None, '_session_creation_timeout_secs': 7200, '_service': None, '_cluster_spec': <tensorflow.python.training.server_lib.ClusterSpec object at 0x7fde13b9abe0>, '_task_type': 'worker', '_task_id': 0, '_global_id_in_cluster': 0, '_master': '', '_evaluation_master': '', '_is_chief': True, '_num_ps_replicas': 0, '_num_worker_replicas': 1}\n"
          ],
          "name": "stdout"
        }
      ]
    },
    {
      "cell_type": "code",
      "metadata": {
        "id": "pQL88YnaiYdp",
        "colab_type": "code",
        "outputId": "81408c3c-c631-481c-e108-ab00e3231aa7",
        "colab": {
          "base_uri": "https://localhost:8080/",
          "height": 1000
        }
      },
      "source": [
        "model.train(input_fn=input_func,steps=20000)"
      ],
      "execution_count": 0,
      "outputs": [
        {
          "output_type": "stream",
          "text": [
            "INFO:tensorflow:Calling model_fn.\n",
            "WARNING:tensorflow:From /usr/local/lib/python3.6/dist-packages/tensorflow_core/python/feature_column/feature_column_v2.py:305: Layer.add_variable (from tensorflow.python.keras.engine.base_layer) is deprecated and will be removed in a future version.\n",
            "Instructions for updating:\n",
            "Please use `layer.add_weight` method instead.\n",
            "INFO:tensorflow:Done calling model_fn.\n",
            "INFO:tensorflow:Create CheckpointSaverHook.\n",
            "INFO:tensorflow:Graph was finalized.\n",
            "INFO:tensorflow:Running local_init_op.\n",
            "INFO:tensorflow:Done running local_init_op.\n",
            "INFO:tensorflow:Saving checkpoints for 0 into /tmp/tmp_zf69j3q/model.ckpt.\n",
            "INFO:tensorflow:loss = 1604712500000.0, step = 1\n",
            "INFO:tensorflow:global_step/sec: 389.891\n",
            "INFO:tensorflow:loss = 812390350000.0, step = 101 (0.259 sec)\n",
            "INFO:tensorflow:global_step/sec: 473.435\n",
            "INFO:tensorflow:loss = 822260400000.0, step = 201 (0.213 sec)\n",
            "INFO:tensorflow:global_step/sec: 433.66\n",
            "INFO:tensorflow:loss = 1256298600000.0, step = 301 (0.231 sec)\n",
            "INFO:tensorflow:global_step/sec: 596.549\n",
            "INFO:tensorflow:loss = 1364827400000.0, step = 401 (0.172 sec)\n",
            "INFO:tensorflow:global_step/sec: 480.963\n",
            "INFO:tensorflow:loss = 1387134600000.0, step = 501 (0.209 sec)\n",
            "INFO:tensorflow:global_step/sec: 458.949\n",
            "INFO:tensorflow:loss = 1084807900000.0, step = 601 (0.213 sec)\n",
            "INFO:tensorflow:global_step/sec: 378.119\n",
            "INFO:tensorflow:loss = 1049187600000.0, step = 701 (0.269 sec)\n",
            "INFO:tensorflow:global_step/sec: 485.477\n",
            "INFO:tensorflow:loss = 942293840000.0, step = 801 (0.207 sec)\n",
            "INFO:tensorflow:global_step/sec: 468.683\n",
            "INFO:tensorflow:loss = 868712200000.0, step = 901 (0.209 sec)\n",
            "INFO:tensorflow:global_step/sec: 576.181\n",
            "INFO:tensorflow:loss = 1262200800000.0, step = 1001 (0.178 sec)\n",
            "INFO:tensorflow:global_step/sec: 462.824\n",
            "INFO:tensorflow:loss = 753252600000.0, step = 1101 (0.216 sec)\n",
            "INFO:tensorflow:global_step/sec: 451.036\n",
            "INFO:tensorflow:loss = 867385800000.0, step = 1201 (0.217 sec)\n",
            "INFO:tensorflow:global_step/sec: 460.983\n",
            "INFO:tensorflow:loss = 1111090900000.0, step = 1301 (0.215 sec)\n",
            "INFO:tensorflow:global_step/sec: 467.708\n",
            "INFO:tensorflow:loss = 1242979200000.0, step = 1401 (0.209 sec)\n",
            "INFO:tensorflow:global_step/sec: 502.698\n",
            "INFO:tensorflow:loss = 652438900000.0, step = 1501 (0.202 sec)\n",
            "INFO:tensorflow:global_step/sec: 466.129\n",
            "INFO:tensorflow:loss = 1369607800000.0, step = 1601 (0.218 sec)\n",
            "INFO:tensorflow:global_step/sec: 480.091\n",
            "INFO:tensorflow:loss = 1127307400000.0, step = 1701 (0.208 sec)\n",
            "INFO:tensorflow:global_step/sec: 453.281\n",
            "INFO:tensorflow:loss = 1349785500000.0, step = 1801 (0.222 sec)\n",
            "INFO:tensorflow:global_step/sec: 466.457\n",
            "INFO:tensorflow:loss = 917168850000.0, step = 1901 (0.209 sec)\n",
            "INFO:tensorflow:global_step/sec: 503.099\n",
            "INFO:tensorflow:loss = 734907700000.0, step = 2001 (0.207 sec)\n",
            "INFO:tensorflow:global_step/sec: 482.159\n",
            "INFO:tensorflow:loss = 1140626300000.0, step = 2101 (0.211 sec)\n",
            "INFO:tensorflow:global_step/sec: 445.663\n",
            "INFO:tensorflow:loss = 1249310900000.0, step = 2201 (0.220 sec)\n",
            "INFO:tensorflow:global_step/sec: 522.917\n",
            "INFO:tensorflow:loss = 957040360000.0, step = 2301 (0.186 sec)\n",
            "INFO:tensorflow:global_step/sec: 516.52\n",
            "INFO:tensorflow:loss = 1359083200000.0, step = 2401 (0.196 sec)\n",
            "INFO:tensorflow:global_step/sec: 453.452\n",
            "INFO:tensorflow:loss = 1576485000000.0, step = 2501 (0.231 sec)\n",
            "INFO:tensorflow:global_step/sec: 425.36\n",
            "INFO:tensorflow:loss = 1362533800000.0, step = 2601 (0.223 sec)\n",
            "INFO:tensorflow:global_step/sec: 468.321\n",
            "INFO:tensorflow:loss = 1580390200000.0, step = 2701 (0.210 sec)\n",
            "INFO:tensorflow:global_step/sec: 504.494\n",
            "INFO:tensorflow:loss = 1325909900000.0, step = 2801 (0.204 sec)\n",
            "INFO:tensorflow:global_step/sec: 569.522\n",
            "INFO:tensorflow:loss = 777554560000.0, step = 2901 (0.173 sec)\n",
            "INFO:tensorflow:global_step/sec: 477.152\n",
            "INFO:tensorflow:loss = 610692370000.0, step = 3001 (0.211 sec)\n",
            "INFO:tensorflow:global_step/sec: 443.914\n",
            "INFO:tensorflow:loss = 1808019400000.0, step = 3101 (0.226 sec)\n",
            "INFO:tensorflow:global_step/sec: 450.055\n",
            "INFO:tensorflow:loss = 1405547600000.0, step = 3201 (0.230 sec)\n",
            "INFO:tensorflow:global_step/sec: 466.991\n",
            "INFO:tensorflow:loss = 743907000000.0, step = 3301 (0.214 sec)\n",
            "INFO:tensorflow:global_step/sec: 454.028\n",
            "INFO:tensorflow:loss = 1156776600000.0, step = 3401 (0.209 sec)\n",
            "INFO:tensorflow:global_step/sec: 449.045\n",
            "INFO:tensorflow:loss = 915824200000.0, step = 3501 (0.227 sec)\n",
            "INFO:tensorflow:global_step/sec: 453.733\n",
            "INFO:tensorflow:loss = 1207294400000.0, step = 3601 (0.215 sec)\n",
            "INFO:tensorflow:global_step/sec: 462.267\n",
            "INFO:tensorflow:loss = 1136703200000.0, step = 3701 (0.216 sec)\n",
            "INFO:tensorflow:global_step/sec: 471.997\n",
            "INFO:tensorflow:loss = 915007140000.0, step = 3801 (0.212 sec)\n",
            "INFO:tensorflow:global_step/sec: 481.113\n",
            "INFO:tensorflow:loss = 1131105000000.0, step = 3901 (0.214 sec)\n",
            "INFO:tensorflow:global_step/sec: 456.699\n",
            "INFO:tensorflow:loss = 1083151300000.0, step = 4001 (0.216 sec)\n",
            "INFO:tensorflow:global_step/sec: 482.687\n",
            "INFO:tensorflow:loss = 742374440000.0, step = 4101 (0.208 sec)\n",
            "INFO:tensorflow:global_step/sec: 483.346\n",
            "INFO:tensorflow:loss = 1556840400000.0, step = 4201 (0.212 sec)\n",
            "INFO:tensorflow:global_step/sec: 463.679\n",
            "INFO:tensorflow:loss = 905907140000.0, step = 4301 (0.209 sec)\n",
            "INFO:tensorflow:global_step/sec: 484.312\n",
            "INFO:tensorflow:loss = 1245621100000.0, step = 4401 (0.204 sec)\n",
            "INFO:tensorflow:global_step/sec: 480.365\n",
            "INFO:tensorflow:loss = 956848800000.0, step = 4501 (0.211 sec)\n",
            "INFO:tensorflow:global_step/sec: 470.116\n",
            "INFO:tensorflow:loss = 1328131700000.0, step = 4601 (0.210 sec)\n",
            "INFO:tensorflow:global_step/sec: 497.996\n",
            "INFO:tensorflow:loss = 1404499900000.0, step = 4701 (0.205 sec)\n",
            "INFO:tensorflow:global_step/sec: 469.422\n",
            "INFO:tensorflow:loss = 1067081900000.0, step = 4801 (0.213 sec)\n",
            "INFO:tensorflow:global_step/sec: 453.871\n",
            "INFO:tensorflow:loss = 982786900000.0, step = 4901 (0.219 sec)\n",
            "INFO:tensorflow:global_step/sec: 464.498\n",
            "INFO:tensorflow:loss = 1346195800000.0, step = 5001 (0.213 sec)\n",
            "INFO:tensorflow:global_step/sec: 494.104\n",
            "INFO:tensorflow:loss = 1051890800000.0, step = 5101 (0.206 sec)\n",
            "INFO:tensorflow:global_step/sec: 460.115\n",
            "INFO:tensorflow:loss = 1274369700000.0, step = 5201 (0.214 sec)\n",
            "INFO:tensorflow:global_step/sec: 480.171\n",
            "INFO:tensorflow:loss = 1097383350000.0, step = 5301 (0.210 sec)\n",
            "INFO:tensorflow:global_step/sec: 477.791\n",
            "INFO:tensorflow:loss = 970913100000.0, step = 5401 (0.209 sec)\n",
            "INFO:tensorflow:global_step/sec: 474.47\n",
            "INFO:tensorflow:loss = 756532900000.0, step = 5501 (0.215 sec)\n",
            "INFO:tensorflow:global_step/sec: 444.378\n",
            "INFO:tensorflow:loss = 957986600000.0, step = 5601 (0.222 sec)\n",
            "INFO:tensorflow:global_step/sec: 481.371\n",
            "INFO:tensorflow:loss = 844990300000.0, step = 5701 (0.207 sec)\n",
            "INFO:tensorflow:global_step/sec: 489.622\n",
            "INFO:tensorflow:loss = 1180746500000.0, step = 5801 (0.206 sec)\n",
            "INFO:tensorflow:global_step/sec: 456.495\n",
            "INFO:tensorflow:loss = 1116694800000.0, step = 5901 (0.217 sec)\n",
            "INFO:tensorflow:global_step/sec: 483.247\n",
            "INFO:tensorflow:loss = 1007906400000.0, step = 6001 (0.209 sec)\n",
            "INFO:tensorflow:global_step/sec: 440.481\n",
            "INFO:tensorflow:loss = 1454921100000.0, step = 6101 (0.225 sec)\n",
            "INFO:tensorflow:global_step/sec: 470.013\n",
            "INFO:tensorflow:loss = 1360280300000.0, step = 6201 (0.212 sec)\n",
            "INFO:tensorflow:global_step/sec: 473.498\n",
            "INFO:tensorflow:loss = 1022358450000.0, step = 6301 (0.216 sec)\n",
            "INFO:tensorflow:global_step/sec: 421.283\n",
            "INFO:tensorflow:loss = 1294136800000.0, step = 6401 (0.232 sec)\n",
            "INFO:tensorflow:global_step/sec: 484.697\n",
            "INFO:tensorflow:loss = 854064500000.0, step = 6501 (0.210 sec)\n",
            "INFO:tensorflow:global_step/sec: 436.785\n",
            "INFO:tensorflow:loss = 1381443400000.0, step = 6601 (0.226 sec)\n",
            "INFO:tensorflow:global_step/sec: 483.448\n",
            "INFO:tensorflow:loss = 856525300000.0, step = 6701 (0.208 sec)\n",
            "INFO:tensorflow:global_step/sec: 453.109\n",
            "INFO:tensorflow:loss = 1335916000000.0, step = 6801 (0.226 sec)\n",
            "INFO:tensorflow:global_step/sec: 514.42\n",
            "INFO:tensorflow:loss = 756428800000.0, step = 6901 (0.189 sec)\n",
            "INFO:tensorflow:global_step/sec: 507.961\n",
            "INFO:tensorflow:loss = 1237603200000.0, step = 7001 (0.200 sec)\n",
            "INFO:tensorflow:global_step/sec: 461.925\n",
            "INFO:tensorflow:loss = 1416994500000.0, step = 7101 (0.218 sec)\n",
            "INFO:tensorflow:global_step/sec: 445.197\n",
            "INFO:tensorflow:loss = 1075611200000.0, step = 7201 (0.228 sec)\n",
            "INFO:tensorflow:global_step/sec: 440.643\n",
            "INFO:tensorflow:loss = 1367002300000.0, step = 7301 (0.221 sec)\n",
            "INFO:tensorflow:global_step/sec: 474.957\n",
            "INFO:tensorflow:loss = 778507600000.0, step = 7401 (0.210 sec)\n",
            "INFO:tensorflow:global_step/sec: 483.774\n",
            "INFO:tensorflow:loss = 1395541400000.0, step = 7501 (0.210 sec)\n",
            "INFO:tensorflow:global_step/sec: 469.909\n",
            "INFO:tensorflow:loss = 1288608700000.0, step = 7601 (0.211 sec)\n",
            "INFO:tensorflow:global_step/sec: 466.464\n",
            "INFO:tensorflow:loss = 1053412800000.0, step = 7701 (0.214 sec)\n",
            "INFO:tensorflow:global_step/sec: 498.509\n",
            "INFO:tensorflow:loss = 800695650000.0, step = 7801 (0.206 sec)\n",
            "INFO:tensorflow:global_step/sec: 469.068\n",
            "INFO:tensorflow:loss = 1220623000000.0, step = 7901 (0.216 sec)\n",
            "INFO:tensorflow:global_step/sec: 451.368\n",
            "INFO:tensorflow:loss = 705011500000.0, step = 8001 (0.213 sec)\n",
            "INFO:tensorflow:global_step/sec: 463.996\n",
            "INFO:tensorflow:loss = 1209056100000.0, step = 8101 (0.212 sec)\n",
            "INFO:tensorflow:global_step/sec: 458.363\n",
            "INFO:tensorflow:loss = 870539460000.0, step = 8201 (0.221 sec)\n",
            "INFO:tensorflow:global_step/sec: 470.587\n",
            "INFO:tensorflow:loss = 948795800000.0, step = 8301 (0.215 sec)\n",
            "INFO:tensorflow:global_step/sec: 484.924\n",
            "INFO:tensorflow:loss = 979531330000.0, step = 8401 (0.212 sec)\n",
            "INFO:tensorflow:global_step/sec: 456.628\n",
            "INFO:tensorflow:loss = 1083710100000.0, step = 8501 (0.208 sec)\n",
            "INFO:tensorflow:global_step/sec: 481.943\n",
            "INFO:tensorflow:loss = 920513300000.0, step = 8601 (0.211 sec)\n",
            "INFO:tensorflow:global_step/sec: 450.411\n",
            "INFO:tensorflow:loss = 662696360000.0, step = 8701 (0.225 sec)\n",
            "INFO:tensorflow:global_step/sec: 443.442\n",
            "INFO:tensorflow:loss = 1343863100000.0, step = 8801 (0.230 sec)\n",
            "INFO:tensorflow:global_step/sec: 442.298\n",
            "INFO:tensorflow:loss = 994834060000.0, step = 8901 (0.220 sec)\n",
            "INFO:tensorflow:global_step/sec: 427.452\n",
            "INFO:tensorflow:loss = 1021151000000.0, step = 9001 (0.238 sec)\n",
            "INFO:tensorflow:global_step/sec: 447.899\n",
            "INFO:tensorflow:loss = 843588300000.0, step = 9101 (0.214 sec)\n",
            "INFO:tensorflow:global_step/sec: 448.919\n",
            "INFO:tensorflow:loss = 697248000000.0, step = 9201 (0.230 sec)\n",
            "INFO:tensorflow:global_step/sec: 425.826\n",
            "INFO:tensorflow:loss = 1335243600000.0, step = 9301 (0.234 sec)\n",
            "INFO:tensorflow:global_step/sec: 430.483\n",
            "INFO:tensorflow:loss = 927744800000.0, step = 9401 (0.229 sec)\n",
            "INFO:tensorflow:global_step/sec: 440.734\n",
            "INFO:tensorflow:loss = 1476821100000.0, step = 9501 (0.226 sec)\n",
            "INFO:tensorflow:global_step/sec: 467.537\n",
            "INFO:tensorflow:loss = 1556704300000.0, step = 9601 (0.212 sec)\n",
            "INFO:tensorflow:global_step/sec: 477.008\n",
            "INFO:tensorflow:loss = 683647400000.0, step = 9701 (0.208 sec)\n",
            "INFO:tensorflow:global_step/sec: 467.747\n",
            "INFO:tensorflow:loss = 1261367600000.0, step = 9801 (0.214 sec)\n",
            "INFO:tensorflow:global_step/sec: 467.742\n",
            "INFO:tensorflow:loss = 1325758300000.0, step = 9901 (0.214 sec)\n",
            "INFO:tensorflow:global_step/sec: 481.014\n",
            "INFO:tensorflow:loss = 661550470000.0, step = 10001 (0.209 sec)\n",
            "INFO:tensorflow:global_step/sec: 473.137\n",
            "INFO:tensorflow:loss = 1115491700000.0, step = 10101 (0.220 sec)\n",
            "INFO:tensorflow:global_step/sec: 462.33\n",
            "INFO:tensorflow:loss = 1513568500000.0, step = 10201 (0.210 sec)\n",
            "INFO:tensorflow:global_step/sec: 467.846\n",
            "INFO:tensorflow:loss = 1082824800000.0, step = 10301 (0.209 sec)\n",
            "INFO:tensorflow:global_step/sec: 486.307\n",
            "INFO:tensorflow:loss = 894522160000.0, step = 10401 (0.210 sec)\n",
            "INFO:tensorflow:global_step/sec: 474.596\n",
            "INFO:tensorflow:loss = 905162000000.0, step = 10501 (0.211 sec)\n",
            "INFO:tensorflow:global_step/sec: 429.924\n",
            "INFO:tensorflow:loss = 1283904000000.0, step = 10601 (0.239 sec)\n",
            "INFO:tensorflow:global_step/sec: 441.369\n",
            "INFO:tensorflow:loss = 1032273260000.0, step = 10701 (0.220 sec)\n",
            "INFO:tensorflow:global_step/sec: 449.322\n",
            "INFO:tensorflow:loss = 859618600000.0, step = 10801 (0.222 sec)\n",
            "INFO:tensorflow:global_step/sec: 431.897\n",
            "INFO:tensorflow:loss = 1480765200000.0, step = 10901 (0.234 sec)\n",
            "INFO:tensorflow:global_step/sec: 492.578\n",
            "INFO:tensorflow:loss = 990895000000.0, step = 11001 (0.203 sec)\n",
            "INFO:tensorflow:global_step/sec: 439.351\n",
            "INFO:tensorflow:loss = 1465041800000.0, step = 11101 (0.224 sec)\n",
            "INFO:tensorflow:global_step/sec: 493.387\n",
            "INFO:tensorflow:loss = 1446044000000.0, step = 11201 (0.213 sec)\n",
            "INFO:tensorflow:global_step/sec: 454.572\n",
            "INFO:tensorflow:loss = 754419000000.0, step = 11301 (0.213 sec)\n",
            "INFO:tensorflow:global_step/sec: 463.342\n",
            "INFO:tensorflow:loss = 1024404700000.0, step = 11401 (0.209 sec)\n",
            "INFO:tensorflow:global_step/sec: 584.486\n",
            "INFO:tensorflow:loss = 1100978000000.0, step = 11501 (0.181 sec)\n",
            "INFO:tensorflow:global_step/sec: 469.601\n",
            "INFO:tensorflow:loss = 1239345900000.0, step = 11601 (0.209 sec)\n",
            "INFO:tensorflow:global_step/sec: 433.73\n",
            "INFO:tensorflow:loss = 983264700000.0, step = 11701 (0.227 sec)\n",
            "INFO:tensorflow:global_step/sec: 491.998\n",
            "INFO:tensorflow:loss = 792889900000.0, step = 11801 (0.205 sec)\n",
            "INFO:tensorflow:global_step/sec: 475.731\n",
            "INFO:tensorflow:loss = 1282190100000.0, step = 11901 (0.215 sec)\n",
            "INFO:tensorflow:global_step/sec: 445.384\n",
            "INFO:tensorflow:loss = 1320793000000.0, step = 12001 (0.218 sec)\n",
            "INFO:tensorflow:global_step/sec: 475.08\n",
            "INFO:tensorflow:loss = 1016473700000.0, step = 12101 (0.212 sec)\n",
            "INFO:tensorflow:global_step/sec: 481.585\n",
            "INFO:tensorflow:loss = 1086474500000.0, step = 12201 (0.206 sec)\n",
            "INFO:tensorflow:global_step/sec: 522.191\n",
            "INFO:tensorflow:loss = 1219882100000.0, step = 12301 (0.199 sec)\n",
            "INFO:tensorflow:global_step/sec: 448.109\n",
            "INFO:tensorflow:loss = 914794900000.0, step = 12401 (0.214 sec)\n",
            "INFO:tensorflow:global_step/sec: 478.818\n",
            "INFO:tensorflow:loss = 928936300000.0, step = 12501 (0.211 sec)\n",
            "INFO:tensorflow:global_step/sec: 490.836\n",
            "INFO:tensorflow:loss = 1103236200000.0, step = 12601 (0.206 sec)\n",
            "INFO:tensorflow:global_step/sec: 450.423\n",
            "INFO:tensorflow:loss = 1310450000000.0, step = 12701 (0.220 sec)\n",
            "INFO:tensorflow:global_step/sec: 469.413\n",
            "INFO:tensorflow:loss = 807882600000.0, step = 12801 (0.213 sec)\n",
            "INFO:tensorflow:global_step/sec: 480.136\n",
            "INFO:tensorflow:loss = 1293982800000.0, step = 12901 (0.209 sec)\n",
            "INFO:tensorflow:global_step/sec: 477.139\n",
            "INFO:tensorflow:loss = 1736344500000.0, step = 13001 (0.209 sec)\n",
            "INFO:tensorflow:global_step/sec: 616.128\n",
            "INFO:tensorflow:loss = 1031607300000.0, step = 13101 (0.164 sec)\n",
            "INFO:tensorflow:global_step/sec: 446.555\n",
            "INFO:tensorflow:loss = 1464853000000.0, step = 13201 (0.229 sec)\n",
            "INFO:tensorflow:global_step/sec: 460.599\n",
            "INFO:tensorflow:loss = 837090300000.0, step = 13301 (0.216 sec)\n",
            "INFO:tensorflow:global_step/sec: 497.633\n",
            "INFO:tensorflow:loss = 1349270800000.0, step = 13401 (0.197 sec)\n",
            "INFO:tensorflow:global_step/sec: 459.366\n",
            "INFO:tensorflow:loss = 668225440000.0, step = 13501 (0.222 sec)\n",
            "INFO:tensorflow:global_step/sec: 431.108\n",
            "INFO:tensorflow:loss = 1491115000000.0, step = 13601 (0.230 sec)\n",
            "INFO:tensorflow:global_step/sec: 424.237\n",
            "INFO:tensorflow:loss = 750072500000.0, step = 13701 (0.244 sec)\n",
            "INFO:tensorflow:global_step/sec: 395.82\n",
            "INFO:tensorflow:loss = 1476515300000.0, step = 13801 (0.241 sec)\n",
            "INFO:tensorflow:global_step/sec: 466.027\n",
            "INFO:tensorflow:loss = 854661800000.0, step = 13901 (0.213 sec)\n",
            "INFO:tensorflow:global_step/sec: 474.599\n",
            "INFO:tensorflow:loss = 854683400000.0, step = 14001 (0.212 sec)\n",
            "INFO:tensorflow:global_step/sec: 478.145\n",
            "INFO:tensorflow:loss = 626179830000.0, step = 14101 (0.209 sec)\n",
            "INFO:tensorflow:global_step/sec: 461.275\n",
            "INFO:tensorflow:loss = 1200393000000.0, step = 14201 (0.217 sec)\n",
            "INFO:tensorflow:global_step/sec: 456.209\n",
            "INFO:tensorflow:loss = 948714600000.0, step = 14301 (0.223 sec)\n",
            "INFO:tensorflow:global_step/sec: 463.862\n",
            "INFO:tensorflow:loss = 1523717800000.0, step = 14401 (0.211 sec)\n",
            "INFO:tensorflow:global_step/sec: 457.184\n",
            "INFO:tensorflow:loss = 1357789500000.0, step = 14501 (0.216 sec)\n",
            "INFO:tensorflow:global_step/sec: 479.366\n",
            "INFO:tensorflow:loss = 962548660000.0, step = 14601 (0.211 sec)\n",
            "INFO:tensorflow:global_step/sec: 448.754\n",
            "INFO:tensorflow:loss = 962820900000.0, step = 14701 (0.221 sec)\n",
            "INFO:tensorflow:global_step/sec: 477.446\n",
            "INFO:tensorflow:loss = 1021092400000.0, step = 14801 (0.209 sec)\n",
            "INFO:tensorflow:global_step/sec: 482.629\n",
            "INFO:tensorflow:loss = 976180150000.0, step = 14901 (0.212 sec)\n",
            "INFO:tensorflow:global_step/sec: 465.379\n",
            "INFO:tensorflow:loss = 1424923800000.0, step = 15001 (0.210 sec)\n",
            "INFO:tensorflow:global_step/sec: 467.175\n",
            "INFO:tensorflow:loss = 1175252200000.0, step = 15101 (0.214 sec)\n",
            "INFO:tensorflow:global_step/sec: 434.945\n",
            "INFO:tensorflow:loss = 1025190130000.0, step = 15201 (0.236 sec)\n",
            "INFO:tensorflow:global_step/sec: 421.33\n",
            "INFO:tensorflow:loss = 813827600000.0, step = 15301 (0.233 sec)\n",
            "INFO:tensorflow:global_step/sec: 473.781\n",
            "INFO:tensorflow:loss = 1269146700000.0, step = 15401 (0.221 sec)\n",
            "INFO:tensorflow:global_step/sec: 421.987\n",
            "INFO:tensorflow:loss = 715134500000.0, step = 15501 (0.224 sec)\n",
            "INFO:tensorflow:global_step/sec: 486.059\n",
            "INFO:tensorflow:loss = 1155475000000.0, step = 15601 (0.213 sec)\n",
            "INFO:tensorflow:global_step/sec: 469.461\n",
            "INFO:tensorflow:loss = 1306926300000.0, step = 15701 (0.207 sec)\n",
            "INFO:tensorflow:global_step/sec: 472.226\n",
            "INFO:tensorflow:loss = 1064793300000.0, step = 15801 (0.210 sec)\n",
            "INFO:tensorflow:global_step/sec: 475.213\n",
            "INFO:tensorflow:loss = 1250067200000.0, step = 15901 (0.211 sec)\n",
            "INFO:tensorflow:global_step/sec: 488.13\n",
            "INFO:tensorflow:loss = 831262400000.0, step = 16001 (0.207 sec)\n",
            "INFO:tensorflow:global_step/sec: 455.554\n",
            "INFO:tensorflow:loss = 1156165000000.0, step = 16101 (0.222 sec)\n",
            "INFO:tensorflow:global_step/sec: 459.077\n",
            "INFO:tensorflow:loss = 1158515400000.0, step = 16201 (0.216 sec)\n",
            "INFO:tensorflow:global_step/sec: 490.417\n",
            "INFO:tensorflow:loss = 1178088000000.0, step = 16301 (0.207 sec)\n",
            "INFO:tensorflow:global_step/sec: 451.402\n",
            "INFO:tensorflow:loss = 844792700000.0, step = 16401 (0.218 sec)\n",
            "INFO:tensorflow:global_step/sec: 456.355\n",
            "INFO:tensorflow:loss = 1452989500000.0, step = 16501 (0.218 sec)\n",
            "INFO:tensorflow:global_step/sec: 466.297\n",
            "INFO:tensorflow:loss = 1130443200000.0, step = 16601 (0.216 sec)\n",
            "INFO:tensorflow:global_step/sec: 476.055\n",
            "INFO:tensorflow:loss = 1239862300000.0, step = 16701 (0.208 sec)\n",
            "INFO:tensorflow:global_step/sec: 522.796\n",
            "INFO:tensorflow:loss = 872518500000.0, step = 16801 (0.192 sec)\n",
            "INFO:tensorflow:global_step/sec: 456.606\n",
            "INFO:tensorflow:loss = 1426773400000.0, step = 16901 (0.221 sec)\n",
            "INFO:tensorflow:global_step/sec: 463.918\n",
            "INFO:tensorflow:loss = 1201945000000.0, step = 17001 (0.216 sec)\n",
            "INFO:tensorflow:global_step/sec: 461.646\n",
            "INFO:tensorflow:loss = 1132352400000.0, step = 17101 (0.216 sec)\n",
            "INFO:tensorflow:global_step/sec: 474.201\n",
            "INFO:tensorflow:loss = 883174340000.0, step = 17201 (0.209 sec)\n",
            "INFO:tensorflow:global_step/sec: 473.659\n",
            "INFO:tensorflow:loss = 1362939000000.0, step = 17301 (0.210 sec)\n",
            "INFO:tensorflow:global_step/sec: 484.707\n",
            "INFO:tensorflow:loss = 1129886100000.0, step = 17401 (0.208 sec)\n",
            "INFO:tensorflow:global_step/sec: 480.316\n",
            "INFO:tensorflow:loss = 899863540000.0, step = 17501 (0.209 sec)\n",
            "INFO:tensorflow:global_step/sec: 495.683\n",
            "INFO:tensorflow:loss = 882287900000.0, step = 17601 (0.203 sec)\n",
            "INFO:tensorflow:global_step/sec: 468.643\n",
            "INFO:tensorflow:loss = 1074769170000.0, step = 17701 (0.214 sec)\n",
            "INFO:tensorflow:global_step/sec: 461.343\n",
            "INFO:tensorflow:loss = 1111475900000.0, step = 17801 (0.220 sec)\n",
            "INFO:tensorflow:global_step/sec: 448.198\n",
            "INFO:tensorflow:loss = 1033745330000.0, step = 17901 (0.218 sec)\n",
            "INFO:tensorflow:global_step/sec: 479.273\n",
            "INFO:tensorflow:loss = 904976000000.0, step = 18001 (0.209 sec)\n",
            "INFO:tensorflow:global_step/sec: 477.288\n",
            "INFO:tensorflow:loss = 1244830100000.0, step = 18101 (0.213 sec)\n",
            "INFO:tensorflow:global_step/sec: 474.656\n",
            "INFO:tensorflow:loss = 852622700000.0, step = 18201 (0.215 sec)\n",
            "INFO:tensorflow:global_step/sec: 450.048\n",
            "INFO:tensorflow:loss = 1079303730000.0, step = 18301 (0.216 sec)\n",
            "INFO:tensorflow:global_step/sec: 424.589\n",
            "INFO:tensorflow:loss = 1473729000000.0, step = 18401 (0.232 sec)\n",
            "INFO:tensorflow:global_step/sec: 461.348\n",
            "INFO:tensorflow:loss = 1117593900000.0, step = 18501 (0.220 sec)\n",
            "INFO:tensorflow:global_step/sec: 476.02\n",
            "INFO:tensorflow:loss = 1300482000000.0, step = 18601 (0.209 sec)\n",
            "INFO:tensorflow:global_step/sec: 474.167\n",
            "INFO:tensorflow:loss = 1184439100000.0, step = 18701 (0.211 sec)\n",
            "INFO:tensorflow:global_step/sec: 461.877\n",
            "INFO:tensorflow:loss = 883817200000.0, step = 18801 (0.214 sec)\n",
            "INFO:tensorflow:global_step/sec: 478.712\n",
            "INFO:tensorflow:loss = 1211848500000.0, step = 18901 (0.211 sec)\n",
            "INFO:tensorflow:global_step/sec: 448.919\n",
            "INFO:tensorflow:loss = 815710900000.0, step = 19001 (0.223 sec)\n",
            "INFO:tensorflow:global_step/sec: 461.178\n",
            "INFO:tensorflow:loss = 851281250000.0, step = 19101 (0.221 sec)\n",
            "INFO:tensorflow:global_step/sec: 490.655\n",
            "INFO:tensorflow:loss = 1448017100000.0, step = 19201 (0.200 sec)\n",
            "INFO:tensorflow:global_step/sec: 444.439\n",
            "INFO:tensorflow:loss = 1178423800000.0, step = 19301 (0.230 sec)\n",
            "INFO:tensorflow:global_step/sec: 444.65\n",
            "INFO:tensorflow:loss = 698410860000.0, step = 19401 (0.224 sec)\n",
            "INFO:tensorflow:global_step/sec: 462.999\n",
            "INFO:tensorflow:loss = 1961459200000.0, step = 19501 (0.210 sec)\n",
            "INFO:tensorflow:global_step/sec: 495.738\n",
            "INFO:tensorflow:loss = 1789082600000.0, step = 19601 (0.208 sec)\n",
            "INFO:tensorflow:global_step/sec: 470.944\n",
            "INFO:tensorflow:loss = 1272457200000.0, step = 19701 (0.210 sec)\n",
            "INFO:tensorflow:global_step/sec: 464.117\n",
            "INFO:tensorflow:loss = 1755716400000.0, step = 19801 (0.213 sec)\n",
            "INFO:tensorflow:global_step/sec: 478.416\n",
            "INFO:tensorflow:loss = 1137945300000.0, step = 19901 (0.208 sec)\n",
            "INFO:tensorflow:Saving checkpoints for 20000 into /tmp/tmp_zf69j3q/model.ckpt.\n",
            "INFO:tensorflow:Loss for final step: 1273167500000.0.\n"
          ],
          "name": "stdout"
        },
        {
          "output_type": "execute_result",
          "data": {
            "text/plain": [
              "<tensorflow_estimator.python.estimator.canned.linear.LinearRegressor at 0x7fde10443470>"
            ]
          },
          "metadata": {
            "tags": []
          },
          "execution_count": 83
        }
      ]
    },
    {
      "cell_type": "code",
      "metadata": {
        "id": "fZCoRnEAjvsY",
        "colab_type": "code",
        "colab": {}
      },
      "source": [
        "predict_input_func = tf.estimator.inputs.pandas_input_fn(x=X_test,batch_size=20,num_epochs=1,shuffle=True)"
      ],
      "execution_count": 0,
      "outputs": []
    },
    {
      "cell_type": "code",
      "metadata": {
        "id": "nGdpE1R5jI1m",
        "colab_type": "code",
        "outputId": "e4d85070-453c-4292-c26f-51f59668b0fe",
        "colab": {
          "base_uri": "https://localhost:8080/",
          "height": 119
        }
      },
      "source": [
        "prediction = list(model.predict(predict_input_func))"
      ],
      "execution_count": 0,
      "outputs": [
        {
          "output_type": "stream",
          "text": [
            "INFO:tensorflow:Calling model_fn.\n",
            "INFO:tensorflow:Done calling model_fn.\n",
            "INFO:tensorflow:Graph was finalized.\n",
            "INFO:tensorflow:Restoring parameters from /tmp/tmp_zf69j3q/model.ckpt-20000\n",
            "INFO:tensorflow:Running local_init_op.\n",
            "INFO:tensorflow:Done running local_init_op.\n"
          ],
          "name": "stdout"
        }
      ]
    },
    {
      "cell_type": "code",
      "metadata": {
        "id": "eXPBWYOCkMNr",
        "colab_type": "code",
        "colab": {}
      },
      "source": [
        "final_predictions = []\n",
        "\n",
        "for array in prediction:\n",
        "  final_predictions.append(array['predictions'][0])"
      ],
      "execution_count": 0,
      "outputs": []
    },
    {
      "cell_type": "code",
      "metadata": {
        "id": "UjbFPOblkql1",
        "colab_type": "code",
        "outputId": "0ac1e9c1-5991-406b-8d7c-e51ea3b2e960",
        "colab": {
          "base_uri": "https://localhost:8080/",
          "height": 187
        }
      },
      "source": [
        "final_predictions[:10]"
      ],
      "execution_count": 0,
      "outputs": [
        {
          "output_type": "execute_result",
          "data": {
            "text/plain": [
              "[113.1357,\n",
              " 99.58682,\n",
              " 121.876,\n",
              " 83.7162,\n",
              " 127.42233,\n",
              " 81.10673,\n",
              " 116.01642,\n",
              " 113.78102,\n",
              " 130.12347,\n",
              " 94.936134]"
            ]
          },
          "metadata": {
            "tags": []
          },
          "execution_count": 87
        }
      ]
    },
    {
      "cell_type": "code",
      "metadata": {
        "id": "TvnNwBrljcNI",
        "colab_type": "code",
        "colab": {}
      },
      "source": [
        "from sklearn.metrics import mean_squared_error"
      ],
      "execution_count": 0,
      "outputs": []
    },
    {
      "cell_type": "code",
      "metadata": {
        "id": "qxSNJFfoka1M",
        "colab_type": "code",
        "outputId": "cbd9720e-9705-4251-d319-75510dc34908",
        "colab": {
          "base_uri": "https://localhost:8080/",
          "height": 34
        }
      },
      "source": [
        "print(\"RMSE is :\",mean_squared_error(y_test,final_predictions)**0.5)"
      ],
      "execution_count": 0,
      "outputs": [
        {
          "output_type": "stream",
          "text": [
            "RMSE is : 237127.7247580254\n"
          ],
          "name": "stdout"
        }
      ]
    },
    {
      "cell_type": "code",
      "metadata": {
        "id": "qHEoLiTxQyVm",
        "colab_type": "code",
        "colab": {}
      },
      "source": [
        ""
      ],
      "execution_count": 0,
      "outputs": []
    }
  ]
}